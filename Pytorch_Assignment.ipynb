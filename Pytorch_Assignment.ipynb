{
  "nbformat": 4,
  "nbformat_minor": 0,
  "metadata": {
    "colab": {
      "provenance": [],
      "authorship_tag": "ABX9TyPQlxi21DpqVsk7fWe163nR",
      "include_colab_link": true
    },
    "kernelspec": {
      "name": "python3",
      "display_name": "Python 3"
    },
    "language_info": {
      "name": "python"
    }
  },
  "cells": [
    {
      "cell_type": "markdown",
      "metadata": {
        "id": "view-in-github",
        "colab_type": "text"
      },
      "source": [
        "<a href=\"https://colab.research.google.com/github/mrunbhosale/Pytorch-Assignment/blob/main/Pytorch_Assignment.ipynb\" target=\"_parent\"><img src=\"https://colab.research.google.com/assets/colab-badge.svg\" alt=\"Open In Colab\"/></a>"
      ]
    },
    {
      "cell_type": "code",
      "execution_count": 1,
      "metadata": {
        "id": "I_yTE-dG9hA7"
      },
      "outputs": [],
      "source": [
        "import torch\n",
        "import torch.nn as nn\n",
        "import torch.optim as optim\n",
        "import torchvision\n",
        "import torchvision.transforms as transforms"
      ]
    },
    {
      "cell_type": "code",
      "source": [
        "batch_size = 64\n",
        "learning_rate = 0.001\n",
        "num_epochs = 10"
      ],
      "metadata": {
        "id": "lmXWuyK49rOk"
      },
      "execution_count": 2,
      "outputs": []
    },
    {
      "cell_type": "code",
      "source": [
        "transform = transforms.Compose([transforms.ToTensor(), transforms.Normalize((0.5,), (0.5,))])\n",
        "train_dataset = torchvision.datasets.MNIST(root='./data', train=True, transform=transform, download=True)\n",
        "train_loader = torch.utils.data.DataLoader(dataset=train_dataset, batch_size=batch_size, shuffle=True)"
      ],
      "metadata": {
        "colab": {
          "base_uri": "https://localhost:8080/"
        },
        "id": "ale7kl_M9rSe",
        "outputId": "836b1fac-bce6-42cc-b2ee-0662956e71fd"
      },
      "execution_count": 3,
      "outputs": [
        {
          "output_type": "stream",
          "name": "stdout",
          "text": [
            "Downloading http://yann.lecun.com/exdb/mnist/train-images-idx3-ubyte.gz\n",
            "Downloading http://yann.lecun.com/exdb/mnist/train-images-idx3-ubyte.gz to ./data/MNIST/raw/train-images-idx3-ubyte.gz\n"
          ]
        },
        {
          "output_type": "stream",
          "name": "stderr",
          "text": [
            "100%|██████████| 9912422/9912422 [00:00<00:00, 131498795.72it/s]"
          ]
        },
        {
          "output_type": "stream",
          "name": "stdout",
          "text": [
            "Extracting ./data/MNIST/raw/train-images-idx3-ubyte.gz to ./data/MNIST/raw\n"
          ]
        },
        {
          "output_type": "stream",
          "name": "stderr",
          "text": [
            "\n"
          ]
        },
        {
          "output_type": "stream",
          "name": "stdout",
          "text": [
            "\n",
            "Downloading http://yann.lecun.com/exdb/mnist/train-labels-idx1-ubyte.gz\n",
            "Downloading http://yann.lecun.com/exdb/mnist/train-labels-idx1-ubyte.gz to ./data/MNIST/raw/train-labels-idx1-ubyte.gz\n"
          ]
        },
        {
          "output_type": "stream",
          "name": "stderr",
          "text": [
            "100%|██████████| 28881/28881 [00:00<00:00, 129004998.75it/s]\n"
          ]
        },
        {
          "output_type": "stream",
          "name": "stdout",
          "text": [
            "Extracting ./data/MNIST/raw/train-labels-idx1-ubyte.gz to ./data/MNIST/raw\n",
            "\n",
            "Downloading http://yann.lecun.com/exdb/mnist/t10k-images-idx3-ubyte.gz\n",
            "Downloading http://yann.lecun.com/exdb/mnist/t10k-images-idx3-ubyte.gz to ./data/MNIST/raw/t10k-images-idx3-ubyte.gz\n"
          ]
        },
        {
          "output_type": "stream",
          "name": "stderr",
          "text": [
            "100%|██████████| 1648877/1648877 [00:00<00:00, 32367464.46it/s]"
          ]
        },
        {
          "output_type": "stream",
          "name": "stdout",
          "text": [
            "Extracting ./data/MNIST/raw/t10k-images-idx3-ubyte.gz to ./data/MNIST/raw\n"
          ]
        },
        {
          "output_type": "stream",
          "name": "stderr",
          "text": [
            "\n"
          ]
        },
        {
          "output_type": "stream",
          "name": "stdout",
          "text": [
            "\n",
            "Downloading http://yann.lecun.com/exdb/mnist/t10k-labels-idx1-ubyte.gz\n",
            "Downloading http://yann.lecun.com/exdb/mnist/t10k-labels-idx1-ubyte.gz to ./data/MNIST/raw/t10k-labels-idx1-ubyte.gz\n"
          ]
        },
        {
          "output_type": "stream",
          "name": "stderr",
          "text": [
            "100%|██████████| 4542/4542 [00:00<00:00, 5955151.22it/s]\n"
          ]
        },
        {
          "output_type": "stream",
          "name": "stdout",
          "text": [
            "Extracting ./data/MNIST/raw/t10k-labels-idx1-ubyte.gz to ./data/MNIST/raw\n",
            "\n"
          ]
        }
      ]
    },
    {
      "cell_type": "code",
      "source": [
        "class NeuralNetwork(nn.Module):\n",
        "    def __init__(self):\n",
        "        super(NeuralNetwork, self).__init__()\n",
        "        self.flatten = nn.Flatten()\n",
        "        self.linear_relu_stack = nn.Sequential(\n",
        "            nn.Linear(28 * 28, 512),\n",
        "            nn.ReLU(),\n",
        "            nn.Linear(512, 256),\n",
        "            nn.ReLU(),\n",
        "            nn.Linear(256, 10)\n",
        "        )\n",
        "\n",
        "    def forward(self, x):\n",
        "        x = self.flatten(x)\n",
        "        logits = self.linear_relu_stack(x)\n",
        "        return logits"
      ],
      "metadata": {
        "id": "Yflm_gkS9rU7"
      },
      "execution_count": 4,
      "outputs": []
    },
    {
      "cell_type": "code",
      "source": [
        "model = NeuralNetwork()\n",
        "\n",
        "# Loss function and optimizer\n",
        "criterion = nn.CrossEntropyLoss()\n",
        "optimizer = optim.Adam(model.parameters(), lr=learning_rate)"
      ],
      "metadata": {
        "id": "EKPLtBri9rYs"
      },
      "execution_count": 5,
      "outputs": []
    },
    {
      "cell_type": "code",
      "source": [
        "for epoch in range(num_epochs):\n",
        "    for batch, (images, labels) in enumerate(train_loader):\n",
        "        # Forward pass\n",
        "        outputs = model(images)\n",
        "        loss = criterion(outputs, labels)\n",
        "\n",
        "        # Backpropagation and optimization\n",
        "        optimizer.zero_grad()\n",
        "        loss.backward()\n",
        "        optimizer.step()\n",
        "\n",
        "        if (batch+1) % 100 == 0:\n",
        "            print(f\"Epoch [{epoch+1}/{num_epochs}], Batch [{batch+1}/{len(train_loader)}], Loss: {loss.item():.4f}\")\n",
        "\n",
        "print(\"Training finished.\")"
      ],
      "metadata": {
        "colab": {
          "base_uri": "https://localhost:8080/"
        },
        "id": "xwHfOaTN-AOB",
        "outputId": "4d5ea4c1-7d93-4f7b-e8bb-bbdd530efca1"
      },
      "execution_count": 6,
      "outputs": [
        {
          "output_type": "stream",
          "name": "stdout",
          "text": [
            "Epoch [1/10], Batch [100/938], Loss: 0.3852\n",
            "Epoch [1/10], Batch [200/938], Loss: 0.4193\n",
            "Epoch [1/10], Batch [300/938], Loss: 0.1656\n",
            "Epoch [1/10], Batch [400/938], Loss: 0.1648\n",
            "Epoch [1/10], Batch [500/938], Loss: 0.2331\n",
            "Epoch [1/10], Batch [600/938], Loss: 0.5621\n",
            "Epoch [1/10], Batch [700/938], Loss: 0.1933\n",
            "Epoch [1/10], Batch [800/938], Loss: 0.0863\n",
            "Epoch [1/10], Batch [900/938], Loss: 0.2877\n",
            "Epoch [2/10], Batch [100/938], Loss: 0.0807\n",
            "Epoch [2/10], Batch [200/938], Loss: 0.0595\n",
            "Epoch [2/10], Batch [300/938], Loss: 0.1461\n",
            "Epoch [2/10], Batch [400/938], Loss: 0.3327\n",
            "Epoch [2/10], Batch [500/938], Loss: 0.1231\n",
            "Epoch [2/10], Batch [600/938], Loss: 0.2111\n",
            "Epoch [2/10], Batch [700/938], Loss: 0.0957\n",
            "Epoch [2/10], Batch [800/938], Loss: 0.0848\n",
            "Epoch [2/10], Batch [900/938], Loss: 0.1066\n",
            "Epoch [3/10], Batch [100/938], Loss: 0.0759\n",
            "Epoch [3/10], Batch [200/938], Loss: 0.2365\n",
            "Epoch [3/10], Batch [300/938], Loss: 0.0441\n",
            "Epoch [3/10], Batch [400/938], Loss: 0.0164\n",
            "Epoch [3/10], Batch [500/938], Loss: 0.1213\n",
            "Epoch [3/10], Batch [600/938], Loss: 0.0829\n",
            "Epoch [3/10], Batch [700/938], Loss: 0.0763\n",
            "Epoch [3/10], Batch [800/938], Loss: 0.2116\n",
            "Epoch [3/10], Batch [900/938], Loss: 0.1468\n",
            "Epoch [4/10], Batch [100/938], Loss: 0.1160\n",
            "Epoch [4/10], Batch [200/938], Loss: 0.1321\n",
            "Epoch [4/10], Batch [300/938], Loss: 0.1203\n",
            "Epoch [4/10], Batch [400/938], Loss: 0.0489\n",
            "Epoch [4/10], Batch [500/938], Loss: 0.0894\n",
            "Epoch [4/10], Batch [600/938], Loss: 0.0527\n",
            "Epoch [4/10], Batch [700/938], Loss: 0.1702\n",
            "Epoch [4/10], Batch [800/938], Loss: 0.0061\n",
            "Epoch [4/10], Batch [900/938], Loss: 0.0385\n",
            "Epoch [5/10], Batch [100/938], Loss: 0.1642\n",
            "Epoch [5/10], Batch [200/938], Loss: 0.0610\n",
            "Epoch [5/10], Batch [300/938], Loss: 0.0600\n",
            "Epoch [5/10], Batch [400/938], Loss: 0.0137\n",
            "Epoch [5/10], Batch [500/938], Loss: 0.0390\n",
            "Epoch [5/10], Batch [600/938], Loss: 0.1225\n",
            "Epoch [5/10], Batch [700/938], Loss: 0.2180\n",
            "Epoch [5/10], Batch [800/938], Loss: 0.0228\n",
            "Epoch [5/10], Batch [900/938], Loss: 0.0302\n",
            "Epoch [6/10], Batch [100/938], Loss: 0.0265\n",
            "Epoch [6/10], Batch [200/938], Loss: 0.0366\n",
            "Epoch [6/10], Batch [300/938], Loss: 0.0720\n",
            "Epoch [6/10], Batch [400/938], Loss: 0.0144\n",
            "Epoch [6/10], Batch [500/938], Loss: 0.0470\n",
            "Epoch [6/10], Batch [600/938], Loss: 0.0515\n",
            "Epoch [6/10], Batch [700/938], Loss: 0.0721\n",
            "Epoch [6/10], Batch [800/938], Loss: 0.0151\n",
            "Epoch [6/10], Batch [900/938], Loss: 0.0522\n",
            "Epoch [7/10], Batch [100/938], Loss: 0.0210\n",
            "Epoch [7/10], Batch [200/938], Loss: 0.0177\n",
            "Epoch [7/10], Batch [300/938], Loss: 0.0388\n",
            "Epoch [7/10], Batch [400/938], Loss: 0.0113\n",
            "Epoch [7/10], Batch [500/938], Loss: 0.0832\n",
            "Epoch [7/10], Batch [600/938], Loss: 0.0309\n",
            "Epoch [7/10], Batch [700/938], Loss: 0.1882\n",
            "Epoch [7/10], Batch [800/938], Loss: 0.0503\n",
            "Epoch [7/10], Batch [900/938], Loss: 0.0516\n",
            "Epoch [8/10], Batch [100/938], Loss: 0.0091\n",
            "Epoch [8/10], Batch [200/938], Loss: 0.0888\n",
            "Epoch [8/10], Batch [300/938], Loss: 0.0151\n",
            "Epoch [8/10], Batch [400/938], Loss: 0.0454\n",
            "Epoch [8/10], Batch [500/938], Loss: 0.0975\n",
            "Epoch [8/10], Batch [600/938], Loss: 0.0203\n",
            "Epoch [8/10], Batch [700/938], Loss: 0.0267\n",
            "Epoch [8/10], Batch [800/938], Loss: 0.0900\n",
            "Epoch [8/10], Batch [900/938], Loss: 0.0099\n",
            "Epoch [9/10], Batch [100/938], Loss: 0.0356\n",
            "Epoch [9/10], Batch [200/938], Loss: 0.0196\n",
            "Epoch [9/10], Batch [300/938], Loss: 0.0297\n",
            "Epoch [9/10], Batch [400/938], Loss: 0.0333\n",
            "Epoch [9/10], Batch [500/938], Loss: 0.0752\n",
            "Epoch [9/10], Batch [600/938], Loss: 0.0642\n",
            "Epoch [9/10], Batch [700/938], Loss: 0.0054\n",
            "Epoch [9/10], Batch [800/938], Loss: 0.0069\n",
            "Epoch [9/10], Batch [900/938], Loss: 0.0743\n",
            "Epoch [10/10], Batch [100/938], Loss: 0.0047\n",
            "Epoch [10/10], Batch [200/938], Loss: 0.1096\n",
            "Epoch [10/10], Batch [300/938], Loss: 0.0174\n",
            "Epoch [10/10], Batch [400/938], Loss: 0.0980\n",
            "Epoch [10/10], Batch [500/938], Loss: 0.0574\n",
            "Epoch [10/10], Batch [600/938], Loss: 0.0210\n",
            "Epoch [10/10], Batch [700/938], Loss: 0.0105\n",
            "Epoch [10/10], Batch [800/938], Loss: 0.0931\n",
            "Epoch [10/10], Batch [900/938], Loss: 0.0457\n",
            "Training finished.\n"
          ]
        }
      ]
    }
  ]
}